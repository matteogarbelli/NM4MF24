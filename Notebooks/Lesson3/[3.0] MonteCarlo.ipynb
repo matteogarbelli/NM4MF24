{
 "cells": [
  {
   "cell_type": "markdown",
   "metadata": {},
   "source": [
    "Computing a simpler integral \n",
    "\n",
    "$\\int_0^1 e^x$\n",
    "\n",
    " via MonteCarlo approximation."
   ]
  },
  {
   "cell_type": "code",
   "execution_count": null,
   "metadata": {},
   "outputs": [],
   "source": [
    "import numpy as np\n",
    "import matplotlib.pyplot as plt\n",
    "from matplotlib.colors import Normalize\n",
    "from matplotlib.cm import ScalarMappable\n",
    "\n",
    "# Define the function e^x\n",
    "def f(x):\n",
    "    return np.exp(x)\n",
    "\n",
    "# Number of simulations\n",
    "n = 1000000\n",
    "\n",
    "# Generate random values from a uniform distribution between 0 and 1\n",
    "vett = np.random.uniform(0, 1, n)\n",
    "\n",
    "# Compute the mean of f(vett) (which is e^X)\n",
    "m = np.mean(f(vett))\n",
    "\n",
    "# Plot the histogram of f(vett)\n",
    "fig, ax = plt.subplots()  # Create figure and axis objects\n",
    "values, bins, patches = ax.hist(f(vett), bins=50, color='blue', edgecolor='black')\n",
    "\n",
    "# Normalize the values for the color mapping\n",
    "norm = Normalize(vmin=values.min(), vmax=values.max())\n",
    "cmap = plt.cm.rainbow\n",
    "\n",
    "# Color each patch in the histogram according to the value\n",
    "for patch, value in zip(patches, values):\n",
    "    patch.set_facecolor(cmap(norm(value)))\n",
    "\n",
    "# Create a ScalarMappable object for the colorbar\n",
    "sm = ScalarMappable(norm=norm, cmap=cmap)\n",
    "sm.set_array([])\n",
    "\n",
    "# Add the colorbar to the plot explicitly using the axis\n",
    "cbar = fig.colorbar(sm, ax=ax)\n",
    "cbar.set_label('Frequency')\n",
    "\n",
    "# Set plot labels and title\n",
    "ax.set_title('Histogram of $e^X$ for Monte Carlo simulations')\n",
    "ax.set_xlabel('$e^X$')\n",
    "ax.set_ylabel('Frequency')\n",
    "\n",
    "# Show the plot\n",
    "plt.show()\n",
    "\n",
    "# Print the result\n",
    "print(f\"{m} = approximation of the integral using the Monte Carlo method\")\n"
   ]
  }
 ],
 "metadata": {
  "kernelspec": {
   "display_name": "Python 3",
   "language": "python",
   "name": "python3"
  },
  "language_info": {
   "codemirror_mode": {
    "name": "ipython",
    "version": 3
   },
   "file_extension": ".py",
   "mimetype": "text/x-python",
   "name": "python",
   "nbconvert_exporter": "python",
   "pygments_lexer": "ipython3",
   "version": "3.11.6"
  }
 },
 "nbformat": 4,
 "nbformat_minor": 2
}
